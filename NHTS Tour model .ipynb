{
 "cells": [
  {
   "cell_type": "code",
   "execution_count": 10,
   "id": "df3c0c2d",
   "metadata": {},
   "outputs": [],
   "source": [
    "import pandas as pd\n",
    "import numpy as np\n",
    "from scipy.spatial import distance\n",
    "from sklearn.metrics import accuracy_score\n",
    "from sklearn.decomposition import PCA\n",
    "import matplotlib.pyplot as plt\n",
    "#locate files from computer \n"
   ]
  },
  {
   "cell_type": "code",
   "execution_count": null,
   "id": "9ea4845d",
   "metadata": {},
   "outputs": [],
   "source": [
    "\n",
    "# locate and load file to Read \n",
    "df = pd.read_csv('trippub.csv')\n",
    "# create a person ID for the dataframe, this is to identify specific persons\n",
    "df['Person'] = df['HOUSEID'].map(str) + '-' + df['PERSONID'].map(str)\n",
    "df=df.loc[ :, ['HOUSEID','PERSONID','Person','HHFAMINC','HHSTATE','HHSIZE','HHVEHCNT','LIF_CYC','HH_RACE','R_SEX','R_AGE','TRAVDAY','DWELTIME','TRPMILES','TRPTRANS','TRVLCMIN','URBRUR','WHYFROM','WHYTO','WTTRDFIN']]\n",
    "# Delete the unknown and remove unknown dwelltime. \n",
    "df1 = df.replace({'DWELTIME':{-9:1000}})\n",
    "df1"
   ]
  },
  {
   "cell_type": "code",
   "execution_count": null,
   "id": "de495d53",
   "metadata": {},
   "outputs": [],
   "source": [
    "#Definitions of Tour, Stop and primary destination.\n",
    "#Here we merge the two columns to understand the travel pattern. The definitions are based on the time spent at the location and the type pf location.\n",
    "\n",
    "df1[\"Dailypattern\"] = df1[\"Primary stop\"].astype(str) + df1[\"WHYTO\"]\n",
    "\n",
    "# The logic here is that a 'stop' is a short stop at a location less than 2 hours, a 'Tour' is a longer stop often over night, also it is where most trips are assumed to start from. \n",
    "# A 'p_destination' is a primary location an individual commutes to. \n",
    "df1=df1.replace(to_replace =\"short Stop at Home\", value =\"Tour\") \n",
    "df1=df1.replace(to_replace =\"short Stop at Stop\", value =\"Stop\") \n",
    "df1=df1.replace(to_replace =\"PrimaryStop\", value =\"P_Destination\") \n",
    "df1=df1.replace(to_replace =\"PrimaryHome\", value =\"Tour\") \n",
    "df1"
   ]
  },
  {
   "cell_type": "code",
   "execution_count": null,
   "id": "ea5e70c6",
   "metadata": {},
   "outputs": [],
   "source": [
    "# define if is Tour, Stop or P Destination\n",
    "# run individual codes for the differents patterns\n",
    "df2=df1.loc[df1.Dailypattern=='Tour', :]\n",
    "#df2=df1.loc[df1.Dailypattern=='Stop', :]\n",
    "#df2=df1.loc[df1.Dailypattern=='P_Destination', :]\n",
    "df2"
   ]
  },
  {
   "cell_type": "code",
   "execution_count": null,
   "id": "2f2915f5",
   "metadata": {},
   "outputs": [],
   "source": [
    "#count the numbers of tours, stops and p.destination, \n",
    "# change the dependent variable to count the tours, stops and p.d \n",
    "#This will provide different columns \n",
    "\n",
    "df2['Tour'] = df2.groupby('Person')['Dailypattern'].transform('count')\n",
    "#df2['Stop'] = df2.groupby('Person')['Dailypattern'].transform('count')\n",
    "#df2['P_Destination'] = df2.groupby('Person')['Dailypattern'].transform('count')\n",
    "df2"
   ]
  },
  {
   "cell_type": "code",
   "execution_count": null,
   "id": "09c5da75",
   "metadata": {},
   "outputs": [],
   "source": [
    "# Here you can select between person level tour or house level tour. \n",
    "\n",
    "tour = df2.groupby(['Person']).mean()\n",
    "#tour = df1.groupby(['HOUSEID']).mean()\n",
    "tour"
   ]
  },
  {
   "cell_type": "code",
   "execution_count": null,
   "id": "13874840",
   "metadata": {},
   "outputs": [],
   "source": [
    "#tour.to_csv('tourfile.csv')\n",
    "#tour.to_csv('stopfile.csv')\n",
    "#tour.to_csv('pdestinationfile.csv')"
   ]
  },
  {
   "cell_type": "markdown",
   "id": "ae1ee1a8",
   "metadata": {},
   "source": [
    "# import the person or household file to merge, for household level tour or person level tour"
   ]
  },
  {
   "cell_type": "code",
   "execution_count": null,
   "id": "55c90b6a",
   "metadata": {},
   "outputs": [],
   "source": [
    "#The point of merging is to use the person or household sample weights. \n",
    "#you can break the file at this poin if its too large. "
   ]
  },
  {
   "cell_type": "code",
   "execution_count": null,
   "id": "ea6a9d76",
   "metadata": {},
   "outputs": [],
   "source": [
    "person = pd.read_csv('Perpub.csv')\n",
    "tour = pd.read_csv('tourfile.csv')\n",
    "stop = pd.read_csv('stopfile.csv')\n",
    "pdestination = pd.read_csv('pdestinationfile.csv')"
   ]
  },
  {
   "cell_type": "code",
   "execution_count": null,
   "id": "bef85d7d",
   "metadata": {},
   "outputs": [],
   "source": [
    "#Merge trip and person level file and select the person level or household sample weights\n",
    "persontour = tour.join(person, lsuffix=\"_left\", rsuffix=\"_right\")\n",
    "persontour"
   ]
  },
  {
   "cell_type": "code",
   "execution_count": null,
   "id": "01bd4d8b",
   "metadata": {},
   "outputs": [],
   "source": [
    "#Merge trip and person level file and select the person level or household sample weights\n",
    "persontourstop = stop.join(persontour, lsuffix=\"_left\", rsuffix=\"_right\")\n",
    "persontourstop"
   ]
  },
  {
   "cell_type": "code",
   "execution_count": null,
   "id": "d6aea920",
   "metadata": {},
   "outputs": [],
   "source": [
    "#Merge trip and person level file and select the person level or household sample weights\n",
    "merged = pdestination.join(persontourstop, lsuffix=\"_left\", rsuffix=\"_right\")\n",
    "merged"
   ]
  },
  {
   "cell_type": "code",
   "execution_count": null,
   "id": "3c55515b",
   "metadata": {},
   "outputs": [],
   "source": []
  }
 ],
 "metadata": {
  "kernelspec": {
   "display_name": "Python 3 (ipykernel)",
   "language": "python",
   "name": "python3"
  },
  "language_info": {
   "codemirror_mode": {
    "name": "ipython",
    "version": 3
   },
   "file_extension": ".py",
   "mimetype": "text/x-python",
   "name": "python",
   "nbconvert_exporter": "python",
   "pygments_lexer": "ipython3",
   "version": "3.9.12"
  }
 },
 "nbformat": 4,
 "nbformat_minor": 5
}
